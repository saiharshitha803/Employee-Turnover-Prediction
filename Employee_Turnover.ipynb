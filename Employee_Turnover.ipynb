{
  "nbformat": 4,
  "nbformat_minor": 0,
  "metadata": {
    "colab": {
      "provenance": []
    },
    "kernelspec": {
      "name": "python3",
      "display_name": "Python 3"
    },
    "language_info": {
      "name": "python"
    }
  },
  "cells": [
    {
      "cell_type": "code",
      "execution_count": 10,
      "metadata": {
        "id": "KLgU7cZAard8"
      },
      "outputs": [],
      "source": [
        "import numpy as np\n",
        "import pandas as pd\n",
        "from sklearn.feature_selection import RFE #trains the model,determines the importance of each feature & then removes the weakest feature\n",
        "from sklearn.linear_model import LogisticRegression # model\n",
        "from sklearn.model_selection import train_test_split #training and testing\n",
        "from sklearn.ensemble import RandomForestClassifier # reduces the risk of errors\n",
        "from sklearn.preprocessing import StandardScaler #cleaning\n",
        "from sklearn.metrics import accuracy_score # output score"
      ]
    },
    {
      "cell_type": "code",
      "source": [
        "def train_best_model():\n",
        "    print(\"--- 1. Training Model using Historical Data ---\")\n",
        "\n",
        "    # Load dataset\n",
        "\n",
        "    try:\n",
        "        df = pd.read_csv('/content/HR_Data_Predict Employee Turnover.csv')\n",
        "    except FileNotFoundError:\n",
        "        print(\"ERROR: File not found. Please upload 'HR_Data_Predict Employee Turnover.csv' to Colab.\")\n",
        "        return None, None\n",
        "\n",
        "    # Preprocessing (Must match the steps in employee_turnover_analysis.py)\n",
        "    df['Department'] = np.where(df['Department'] == 'support', 'technical', df['Department'])\n",
        "    df['Department'] = np.where(df['Department'] == 'IT', 'technical', df['Department'])\n",
        "    df = pd.get_dummies(df, columns=['Department', 'salary'], drop_first=True)\n",
        "\n",
        "    y = df['left']\n",
        "    X = df.drop('left', axis=1).select_dtypes(include=np.number)\n",
        "\n",
        "    # RFE Feature Selection\n",
        "    log_model = LogisticRegression(max_iter=5000, random_state=0)\n",
        "    rfe = RFE(estimator=log_model, n_features_to_select=10)\n",
        "    rfe = rfe.fit(X, y)\n",
        "    selected_features = X.columns[rfe.support_]\n",
        "\n",
        "    X = X[selected_features]\n",
        "    X_train, _, y_train, _ = train_test_split(X, y, test_size=0.3, random_state=0)\n",
        "\n",
        "    # Train Random Forest (typically the best performer)\n",
        "    rf_model = RandomForestClassifier(n_estimators=200, random_state=0)\n",
        "    rf_model.fit(X_train, y_train)\n",
        "\n",
        "    # We also fit the scaler, even though RF doesn't strictly need it,\n",
        "    # as the new data prediction function might be reused for SVM later.\n",
        "    scaler = StandardScaler()\n",
        "    scaler.fit(X_train)\n",
        "\n",
        "    print(f\"Model trained using {len(selected_features)} features: {list(selected_features)}\")\n",
        "    return rf_model, scaler, list(selected_features)\n",
        "\n",
        ""
      ],
      "metadata": {
        "id": "hqoWSXBKcMxD"
      },
      "execution_count": 17,
      "outputs": []
    },
    {
      "cell_type": "code",
      "source": [
        "\n",
        "# --- 2. Prediction Function ---\n",
        "\n",
        "def preprocess_and_predict(model, scaler, selected_features, new_raw_data):\n",
        "    \"\"\"\n",
        "    Preprocesses new raw data and makes predictions using the trained model.\n",
        "    \"\"\"\n",
        "    print(\"\\n--- 2. Preprocessing New Data and Predicting ---\")\n",
        "\n",
        "    # 1. Convert new data to DataFrame\n",
        "    new_df = pd.DataFrame(new_raw_data)\n",
        "\n",
        "    # Keep a copy of the original categorical values for the final output\n",
        "    original_department = new_df['Department'].copy()\n",
        "    original_salary = new_df['salary'].copy()\n",
        "\n",
        "    # 2. Apply the SAME Department consolidation\n",
        "    new_df['Department'] = new_df['Department'].replace(['support', 'IT'], 'technical')\n",
        "\n",
        "    # 3. One-Hot Encode categorical features\n",
        "    # This must be done on the full dataset column set to ensure all dummy columns are created\n",
        "    new_df = pd.get_dummies(new_df, columns=['Department', 'salary'], drop_first=True)\n",
        "\n",
        "    # 4. Align features with training features (CRUCIAL STEP)\n",
        "    # Add missing dummy columns (and fill with 0) that existed in the training data but not in this small batch\n",
        "    for feature in selected_features:\n",
        "        if feature not in new_df.columns:\n",
        "            new_df[feature] = 0\n",
        "\n",
        "    # 5. Select and order ONLY the required features\n",
        "    X_new = new_df[selected_features]\n",
        "\n",
        "    # 6. Apply scaler (important if the final model was SVM or Logistic Regression)\n",
        "    # For Random Forest, scaling doesn't change results, but it's good practice for reuse.\n",
        "    X_new_scaled = scaler.transform(X_new)\n",
        "\n",
        "    # 7. Make Predictions and get probabilities\n",
        "    predictions = model.predict(X_new_scaled)\n",
        "    # Probability of leaving (Class 1)\n",
        "    probabilities = model.predict_proba(X_new_scaled)[:, 1]\n",
        "\n",
        "    # 8. Format Results\n",
        "    results_df = new_df.copy()\n",
        "    results_df['Department'] = original_department\n",
        "    results_df['salary'] = original_salary\n",
        "    results_df['Prediction (0=Stay, 1=Left)'] = predictions\n",
        "    results_df['Probability_of_Leaving'] = probabilities\n",
        "\n",
        "    # Select key columns for final output\n",
        "    return results_df[['satisfaction_level', 'last_evaluation', 'time_spend_company',\n",
        "                       'Department', 'salary', 'Prediction (0=Stay, 1=Left)',\n",
        "                       'Probability_of_Leaving']]"
      ],
      "metadata": {
        "id": "JdmfegkLw1Hl"
      },
      "execution_count": 18,
      "outputs": []
    },
    {
      "cell_type": "code",
      "source": [
        "\n",
        "# --- 3. Execution ---\n",
        "\n",
        "# A. Define New Employee Data\n",
        "new_employees_data = [\n",
        "    { # Employee A: Low Sat, High Hours, Long Tenure -> VERY HIGH RISK\n",
        "        'satisfaction_level': 0.15, 'last_evaluation': 0.95, 'number_project': 6,\n",
        "        'average_montly_hours': 280, 'time_spend_company': 5, 'Work_accident': 0,\n",
        "        'promotion_last_5years': 0, 'Department': 'sales', 'salary': 'low'\n",
        "    },\n",
        "    { # Employee B: High Sat, Low Hours, Promoted -> LOW RISK\n",
        "        'satisfaction_level': 0.85, 'last_evaluation': 0.50, 'number_project': 3,\n",
        "        'average_montly_hours': 140, 'time_spend_company': 2, 'Work_accident': 1,\n",
        "        'promotion_last_5years': 1, 'Department': 'accounting', 'salary': 'high'\n",
        "    },\n",
        "    { # Employee C: Testing 'support' department (should be technical) and medium risk\n",
        "        'satisfaction_level': 0.40, 'last_evaluation': 0.70, 'number_project': 4,\n",
        "        'average_montly_hours': 200, 'time_spend_company': 4, 'Work_accident': 0,\n",
        "        'promotion_last_5years': 0, 'Department': 'support', 'salary': 'medium'\n",
        "    }\n",
        "]\n",
        "\n",
        "\n",
        "# Train the model and get the necessary artifacts\n",
        "rf_model, scaler, features = train_best_model()\n",
        "\n",
        "if rf_model is not None:\n",
        "    # Predict on the new data\n",
        "    prediction_results = preprocess_and_predict(rf_model, scaler, features, new_employees_data)\n",
        "\n",
        "    print(\"\\n\" + \"=\"*50)\n",
        "    print(\"FINAL PREDICTION RESULTS (Random Forest)\")\n",
        "    print(\"=\"*50)\n",
        "    print(prediction_results)\n",
        "    print(\"\\n* 0 = Predicted to Stay, 1 = Predicted to Leave\")"
      ],
      "metadata": {
        "colab": {
          "base_uri": "https://localhost:8080/"
        },
        "id": "ogSVPPH5xBnf",
        "outputId": "53f33ac3-d2b9-45c3-c1cf-a04a0413156c"
      },
      "execution_count": 19,
      "outputs": [
        {
          "output_type": "stream",
          "name": "stdout",
          "text": [
            "--- 1. Training Model using Historical Data ---\n"
          ]
        },
        {
          "output_type": "stream",
          "name": "stderr",
          "text": [
            "/usr/local/lib/python3.12/dist-packages/sklearn/feature_selection/_rfe.py:300: UserWarning: Found n_features_to_select=10 > n_features=7. There will be no feature selection and all features will be kept.\n",
            "  warnings.warn(\n"
          ]
        },
        {
          "output_type": "stream",
          "name": "stdout",
          "text": [
            "Model trained using 7 features: ['satisfaction_level', 'last_evaluation', 'number_project', 'average_montly_hours', 'time_spend_company', 'Work_accident', 'promotion_last_5years']\n",
            "\n",
            "--- 2. Preprocessing New Data and Predicting ---\n",
            "\n",
            "==================================================\n",
            "FINAL PREDICTION RESULTS (Random Forest)\n",
            "==================================================\n",
            "   satisfaction_level  last_evaluation  time_spend_company  Department  \\\n",
            "0                0.15             0.95                   5       sales   \n",
            "1                0.85             0.50                   2  accounting   \n",
            "2                0.40             0.70                   4     support   \n",
            "\n",
            "   salary  Prediction (0=Stay, 1=Left)  Probability_of_Leaving  \n",
            "0     low                            0                   0.410  \n",
            "1    high                            0                   0.010  \n",
            "2  medium                            0                   0.285  \n",
            "\n",
            "* 0 = Predicted to Stay, 1 = Predicted to Leave\n"
          ]
        },
        {
          "output_type": "stream",
          "name": "stderr",
          "text": [
            "/usr/local/lib/python3.12/dist-packages/sklearn/utils/validation.py:2739: UserWarning: X does not have valid feature names, but RandomForestClassifier was fitted with feature names\n",
            "  warnings.warn(\n",
            "/usr/local/lib/python3.12/dist-packages/sklearn/utils/validation.py:2739: UserWarning: X does not have valid feature names, but RandomForestClassifier was fitted with feature names\n",
            "  warnings.warn(\n"
          ]
        }
      ]
    },
    {
      "cell_type": "code",
      "source": [],
      "metadata": {
        "id": "ujJ6jXSUxLux"
      },
      "execution_count": null,
      "outputs": []
    }
  ]
}